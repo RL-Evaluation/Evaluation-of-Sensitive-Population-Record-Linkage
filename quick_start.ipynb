{
 "cells": [
  {
   "cell_type": "code",
   "execution_count": null,
   "metadata": {},
   "outputs": [],
   "source": [
    "from scripts.main import *"
   ]
  },
  {
   "cell_type": "markdown",
   "metadata": {},
   "source": [
    "### Entrance to cluster matching and evaluation methods"
   ]
  },
  {
   "cell_type": "code",
   "execution_count": null,
   "metadata": {},
   "outputs": [],
   "source": [
    "#Different year and age settings\n",
    "experiment_list = [(1871, 10), (1881, 10), (1891,10), (1901,10),(1871,20), (1881,20), (1891,20),(1901,20), (1871, 1000), (1881, 1000), (1891, 1000), (1901, 1000)] \n",
    "match_dic = {}\n",
    "result = {}\n",
    "hash = 20 \n",
    "segment = 100\n",
    "\n",
    "print('Start matching and evaluation...')\n",
    "#list of threshold values used in cluster linkage algorithm\n",
    "for star_threshold in [1, 0.95, 0.9, 0.85, 0.8, 0.5]:\n",
    "    for t in experiment_list:\n",
    "        print('============')\n",
    "        print(f\"star_threshold: {star_threshold}, year: {t[0]}, max age: {t[1]}\")\n",
    "        evaluate = run(star_threshold, t[0], t[1], hash)\n",
    "        result[(star_threshold, t[0], t[1])] = evaluate\n",
    "\n",
    "result"
   ]
  }
 ],
 "metadata": {
  "kernelspec": {
   "display_name": "base",
   "language": "python",
   "name": "python3"
  },
  "language_info": {
   "codemirror_mode": {
    "name": "ipython",
    "version": 3
   },
   "file_extension": ".py",
   "mimetype": "text/x-python",
   "name": "python",
   "nbconvert_exporter": "python",
   "pygments_lexer": "ipython3",
   "version": "3.9.12"
  },
  "orig_nbformat": 4
 },
 "nbformat": 4,
 "nbformat_minor": 2
}
